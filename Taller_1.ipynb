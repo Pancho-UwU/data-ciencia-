{
 "cells": [
  {
   "cell_type": "markdown",
   "id": "7a80855d",
   "metadata": {},
   "source": [
    "## Taller 1 Introducción a Data Science\n",
    "\n",
    "Integrantes: \n"
   ]
  },
  {
   "cell_type": "markdown",
   "id": "f116514b",
   "metadata": {},
   "source": [
    "Francisco Concha.\n"
   ]
  },
  {
   "cell_type": "markdown",
   "id": "819c7aa2",
   "metadata": {},
   "source": [
    "Ronaldo Morales."
   ]
  },
  {
   "cell_type": "code",
   "execution_count": 26,
   "id": "3e968a0f-835a-4116-a7df-4d232759f2eb",
   "metadata": {},
   "outputs": [],
   "source": [
    "from bs4 import BeautifulSoup as bs\n",
    "import numpy as np\n",
    "import json\n",
    "import pandas as pd\n",
    "from urllib.parse import urljoin\n",
    "import requests\n",
    "import statsmodels.api as sm\n",
    "from sklearn.linear_model import LinearRegression\n",
    "from sklearn.model_selection import train_test_split\n",
    "from sklearn.metrics import mean_squared_error, r2_score\n",
    "from sklearn.linear_model import Lasso, Ridge # El modelo de regresión lineal.\n",
    "from sklearn.preprocessing import StandardScaler # Utilidad para estandarizar los datos.\n",
    "import matplotlib.pyplot as plt\n",
    "import seaborn as sns \n",
    "from sklearn.model_selection import GridSearchCV\n",
    "from scipy.stats import f_oneway\n",
    "from sklearn.model_selection import cross_val_score\n",
    "from sklearn.model_selection import RandomizedSearchCV\n",
    "from scipy.stats import uniform\n",
    "\n"
   ]
  },
  {
   "cell_type": "code",
   "execution_count": 27,
   "id": "102b0b3b-6e34-428a-8baa-1de68c800a1a",
   "metadata": {
    "scrolled": true
   },
   "outputs": [
    {
     "name": "stdout",
     "output_type": "stream",
     "text": [
      "Comenzo a leer las urls\n"
     ]
    },
    {
     "name": "stdout",
     "output_type": "stream",
     "text": [
      "Termino de leer las urls\n"
     ]
    }
   ],
   "source": [
    "## Se pude el codigo html\n",
    "## Vector que guarda las urls\n",
    "Urls = []\n",
    "\n",
    "# string_Datos=\n",
    "i=1\n",
    "print(\"Comenzo a leer las urls\")\n",
    "while True:\n",
    "    url = requests.get('https://distiller.com/search?page='+str(i)+'&term=bourbon')\n",
    "    if (url.status_code == 200):\n",
    "        \n",
    "        obj_soup = bs(url.text,'html.parser')\n",
    "        \n",
    "        Direcciones= obj_soup.find_all('a',href = True)\n",
    "        \n",
    "       \n",
    "        for direccion in Direcciones:\n",
    "\n",
    "            extension_direccion = direccion['href']\n",
    "            \n",
    "            if extension_direccion.startswith('/spirits'):\n",
    "\n",
    "                clase_direccion = urljoin('https://distiller.com',extension_direccion)\n",
    "                \n",
    "                \n",
    "                Urls.append(clase_direccion)\n",
    "        i += 1\n",
    "    else:\n",
    "        continue\n",
    "    if(i == 50):\n",
    "        break\n",
    "    \n",
    "\n"
   ]
  },
  {
   "cell_type": "markdown",
   "id": "773b46ee",
   "metadata": {},
   "source": [
    "## WEB SCRAPING\n",
    "Todos datos fueron guardados en variables tipo string para no tener problemas a la hora de guardar las variables en una matriz normal,\n",
    "Todos datos fueron obtenido sin hacer modificación alguna, excepto los datos del año, algunos de estos datos estaban en intervalos, por lo cual, se tomo el valor mayor, considerando que su intervalo no era tan grande y la diferencia del promedio era y el valor mayor era pequeña."
   ]
  },
  {
   "cell_type": "code",
   "execution_count": 28,
   "id": "2f5814b4-532f-4d11-bf2e-31f428c958f8",
   "metadata": {},
   "outputs": [
    {
     "name": "stdout",
     "output_type": "stream",
     "text": [
      "Fin\n"
     ]
    }
   ],
   "source": [
    "texto_dentro = \"Name, Type, Cask, Location, Age, ABV %, Price, Badge, # Ratings, Customer' Rating, Flavor Summary, Expert, Expert Score, Smoky, Peaty, Spicy, Herbal, Oily, Full-bodied, Rich, Sweet, Briny, Salty, Vanilla, Tart, Fruity, Floral, Review\"\n",
    "\n",
    "datos_1 = [[]]\n",
    "datos_1[0].append(\"Name\")\n",
    "datos_1[0].append(\"Type\")\n",
    "datos_1[0].append(\"Cask\")\n",
    "datos_1[0].append(\"Location\")\n",
    "datos_1[0].append(\"Age\")\n",
    "datos_1[0].append(\"ABV %\")\n",
    "datos_1[0].append(\"Price\")\n",
    "datos_1[0].append(\"Badge\")\n",
    "datos_1[0].append(\"# Rating\")\n",
    "datos_1[0].append(\"Customer' Rating\")\n",
    "datos_1[0].append(\"Flavor Summary\")\n",
    "datos_1[0].append(\"Expert\")\n",
    "datos_1[0].append(\"Expert Score\")\n",
    "datos_1[0].append(\"Smoky\")\n",
    "datos_1[0].append(\"Peaty\")\n",
    "datos_1[0].append(\"Spicy\")\n",
    "datos_1[0].append(\"Herbal\")\n",
    "datos_1[0].append(\"Oily\")\n",
    "datos_1[0].append(\"Full-Bodied\")\n",
    "datos_1[0].append(\"Rich\")\n",
    "datos_1[0].append(\"Sweet\")\n",
    "datos_1[0].append(\"Briny\")\n",
    "datos_1[0].append(\"Salty\")\n",
    "datos_1[0].append(\"Vanilla\")\n",
    "datos_1[0].append(\"Tart\")\n",
    "datos_1[0].append(\"Fruity\")\n",
    "datos_1[0].append(\"Floral\")\n",
    "datos_1[0].append(\"Review\")\n",
    "datos_1.append([])\n",
    "f=1\n",
    "\n",
    "\n",
    "for url in range(len(Urls)):\n",
    "    link = requests.get(Urls[url])\n",
    "    if (link.status_code == 200):\n",
    "        nombre = \"\"\n",
    "        tipo = \"\"\n",
    "        cask = \"\"\n",
    "        Nombre_Ubicacion = \"\"\n",
    "        Age = \"\"\n",
    "        abv = \"\"\n",
    "        costo = \"\"\n",
    "        badge = \"\"\n",
    "        cant_Review = \"\"\n",
    "        Clasi_Clien = \"\"\n",
    "        perfil_sabor = \"\"\n",
    "        nombre_Experto = \"\"\n",
    "        score = \"\"\n",
    "        smoky = \"\"\n",
    "        Peaty = \"\"\n",
    "        spicy = \"\"\n",
    "        Herbal = \"\"\n",
    "        Oily = \"\"\n",
    "        Full_bodied = \"\"\n",
    "        Rich = \"\"\n",
    "        Sweet = \"\"\n",
    "        Briny = \"\"\n",
    "        Salty = \"\"\n",
    "        Vanilla = \"\"\n",
    "        Tart = \"\"\n",
    "        Fruity = \"\"\n",
    "        Floral = \"\"\n",
    "        review = \"\"\n",
    "        #texto html de la pagina\n",
    "        Texto_html = bs(link.text,'html.parser')\n",
    "        #encuentra el elemto canvas que que comienza con esto ↓ \n",
    "        elemento_Canvas = Texto_html.find('canvas', class_='js-flavor-profile-chart')\n",
    "        #obtienes la lista de elementos que con esta ↓ variable, que esta en formato json\n",
    "        if elemento_Canvas:\n",
    "            Datos_Sabores = elemento_Canvas.get('data-flavors')\n",
    "            \n",
    "            #Obtienes una lista de las variables antes mencionadas.\n",
    "            Dictado_Sabores = json.loads(Datos_Sabores)\n",
    "            if Dictado_Sabores.get('smoky') is not None:\n",
    "                smoky = str(Dictado_Sabores.get('smoky'))\n",
    "            else:\n",
    "                smoky = \" \"\n",
    "            if Dictado_Sabores.get('peaty') is not None:\n",
    "\n",
    "                Peaty = str(Dictado_Sabores.get('peaty'))\n",
    "                \n",
    "            else:\n",
    "                Peaty = \" \"\n",
    "            if Dictado_Sabores.get('spicy') is not None:\n",
    "\n",
    "                spicy = str(Dictado_Sabores.get('spicy'))\n",
    "            else:\n",
    "                spicy = \" \"\n",
    "            if Dictado_Sabores.get('herbal') is not None:\n",
    "\n",
    "                Herbal = str(Dictado_Sabores.get('herbal'))\n",
    "            else:\n",
    "                Herbal = \" \"\n",
    "            if Dictado_Sabores.get('oily') is not None:\n",
    "\n",
    "                Oily = str(Dictado_Sabores.get('oily'))\n",
    "            else:\n",
    "                Oily = \" \"\n",
    "            if Dictado_Sabores.get('full_bodied') is not None:\n",
    "\n",
    "                Full_bodied = str(Dictado_Sabores.get('full_bodied'))\n",
    "            else:\n",
    "                Full_bodied = \" \"\n",
    "            if Dictado_Sabores.get('rich') is not None:\n",
    "\n",
    "                Rich = str(Dictado_Sabores.get('rich'))\n",
    "            else:\n",
    "                Rich = \" \"\n",
    "            if Dictado_Sabores.get('sweet') is not None:\n",
    "\n",
    "                Sweet = str(Dictado_Sabores.get('sweet'))\n",
    "            else:\n",
    "                Sweet = \" \"\n",
    "            if Dictado_Sabores.get('briny') is not None:\n",
    "\n",
    "                Briny = str(Dictado_Sabores.get('briny'))\n",
    "            else:\n",
    "                Briny = \" \"\n",
    "            if Dictado_Sabores.get('salty') is not None:\n",
    "\n",
    "                Salty = str(Dictado_Sabores.get('salty'))\n",
    "            else:\n",
    "                Salty = \" \"\n",
    "            if Dictado_Sabores.get('vanilla') is not None:\n",
    "\n",
    "                Vanilla = str(Dictado_Sabores.get('vanilla'))\n",
    "            else:\n",
    "                Vanilla = \" \"\n",
    "            if Dictado_Sabores.get('tart') is not None:\n",
    "\n",
    "                Tart = str(Dictado_Sabores.get('tart'))\n",
    "            else:\n",
    "                Tart = \" \"\n",
    "            if Dictado_Sabores.get('fruity') is not None:\n",
    "                Fruity = str(Dictado_Sabores.get('fruity'))\n",
    "            else:\n",
    "                Fruity = \" \"\n",
    "            if Dictado_Sabores.get('floral') is not None:\n",
    "\n",
    "                Floral = str(Dictado_Sabores.get('floral'))\n",
    "            else:\n",
    "                Floral = \" \"\n",
    "        nombre_bool = Texto_html.find('h1', class_='secondary-headline name')\n",
    "        if nombre_bool is not None:\n",
    "            nombre = str(nombre_bool.text.strip())\n",
    "        else:\n",
    "            nombre_bool = Texto_html.find('h1', class_='secondary-headline name long')\n",
    "            if nombre_bool is not None:\n",
    "                nombre_lista= nombre_bool.text.strip()\n",
    "            \n",
    "                if isinstance(nombre_lista,list):\n",
    "                    #creo un vector, lo separo, y lo hago un string grande uwu\n",
    "                    nombre_vector = ''.join(nombre_lista)\n",
    "                    partes_nombre = nombre_vector.split()\n",
    "                    nombre =str(''.join(partes_nombre))\n",
    "                    \n",
    "        #clasificación cliente\n",
    "        Ecc= Texto_html.find('div',  class_='rating-display__value average-rating')\n",
    "        \n",
    "        if Ecc is not None:\n",
    "\n",
    "            Clasi_Clien = str(Ecc.find('span', itemprop='ratingValue').text.strip())\n",
    "        else:\n",
    "            Clasi_Clien = \" \"\n",
    "        #precio\n",
    "        for i in range(1,6):\n",
    "            if Texto_html.find('div', class_='spirit-cost cost-'+str(i)):\n",
    "                costo = str(i)\n",
    "        #Se busca con la etiqueta li y el primero que tenga ↓ esto\n",
    "        encontrar_Age = Texto_html.find('li',class_='detail age') \n",
    "        age_modificar = encontrar_Age.find('div', class_='value').text.strip()\n",
    "        \n",
    "        if age_modificar.lower() == 'nas':\n",
    "        \n",
    "            Age = str(age_modificar)\n",
    "        elif age_modificar is None:\n",
    "            Age = \" \"\n",
    "        else:\n",
    "            Age_sin_texto = age_modificar.replace('Year','').strip()\n",
    "            if '-' in Age_sin_texto:\n",
    "                partes = Age_sin_texto.split('-')\n",
    "                if len(partes) >=2:\n",
    "                    \n",
    "                    age_1=partes[1].replace('years','').strip()\n",
    "                    Age = str(age_1)\n",
    "                \n",
    "            elif Age_sin_texto.isdigit():\n",
    "                Age = str(Age_sin_texto)\n",
    "            else:\n",
    "                Age = \" \"\n",
    "        \n",
    "        #rewie\n",
    "        encontrar_review = Texto_html.find('span', itemprop='ratingCount')\n",
    "        if encontrar_review:\n",
    "            cant_Review = str(encontrar_review.text.strip())\n",
    "        else:\n",
    "            cant_Review = \" \"\n",
    "        #tipo\n",
    "        tipo_bool = Texto_html.find('p', class_ = 'ultra-mini-headline type')\n",
    "        if tipo_bool is not None:\n",
    "            tipo=tipo_bool.text.strip()\n",
    "        else:\n",
    "            tipo = \" \"\n",
    "        #ubicación\n",
    "        Nombre_Ubicacion_bool = Texto_html.find('p', class_ = 'ultra-mini-headline location middleweight')\n",
    "        if Nombre_Ubicacion_bool is not None:\n",
    "            Nombre_Ubicacion = str(Nombre_Ubicacion_bool.text.strip())\n",
    "        else:\n",
    "            Nombre_Ubicacion = \"\"\n",
    "        #Barril\n",
    "        cask_val_1 = Texto_html.find('li', class_='detail cask-type')\n",
    "\n",
    "        if cask_val_1 is not None:\n",
    "            cask_val_2 = cask_val_1.find('div',class_='value')\n",
    "            if cask_val_2 is not None:\n",
    "                cask = str(cask_val_2.text.strip().replace(',', ' '))\n",
    "            else:\n",
    "                cask =\" \"\n",
    "        else:\n",
    "            cask = \" \"\n",
    "        \n",
    "        #Nombre\n",
    "        nombre_html = Texto_html.find('div', class_='meet-experts')\n",
    "\n",
    "        Exper_val = Texto_html.find('div', class_='meet-experts')\n",
    "        if Exper_val is not None:\n",
    "            Exper_val_1 = Exper_val.find('a', itemprop='author')\n",
    "            if Exper_val_1 is not None:\n",
    "                nombre_Experto = str(Exper_val_1.text.strip())\n",
    "            else:\n",
    "                nombre_Experto = \" \"\n",
    "        else:\n",
    "            nombre_Experto =\" \"   \n",
    "        score_val = Texto_html.find('div', class_='distiller-score')\n",
    "        if score_val is not None:\n",
    "            score = str(score_val.span.text.strip())\n",
    "        else:\n",
    "            score = \" \"\n",
    "\n",
    "        abv_val = Texto_html.find('li', class_='detail abv')\n",
    "        if abv_val is not None:\n",
    "            abv_val_1 =abv_val.find('div', class_='value')\n",
    "            if abv_val_1 is not None:\n",
    "                abv = str(abv_val_1.text.strip())\n",
    "            else:\n",
    "                abv = \" \"\n",
    "        else:\n",
    "            abv = \" \"\n",
    "\n",
    "        perfil_sabor_val =Texto_html.find('div',class_='flavor-profile')\n",
    "        if perfil_sabor_val is not None:\n",
    "            perfil_sabor_val_1 =perfil_sabor_val.find('h3',class_='secondary-headline flavors middleweight')\n",
    "            if perfil_sabor_val_1 is not None:\n",
    "                perfil_sabor= str(perfil_sabor_val_1.text.strip())\n",
    "            else:\n",
    "                perfil_sabor = \" \"\n",
    "        else:\n",
    "            perfil_sabor =\" \"\n",
    "        review_val = Texto_html.find('blockquote', itemprop='reviewBody')\n",
    "        if review_val is not None:\n",
    "            review = str(review_val.text.strip()).replace('\"',\"\").replace(\",\",\"\")\n",
    "        else:\n",
    "            review = \" \"\n",
    "        badge_val = Texto_html.find('div', class_='spirit-badge')\n",
    "        if badge_val is not None:\n",
    "            badge = str(badge_val.text.strip())\n",
    "        else:\n",
    "            badge =\" \"\n",
    "        \n",
    "        \n",
    "        #texto_dentro = str(nombre) + \",\" + str(tipo) + \",\" + str(cask) + \",\" + str(Nombre_Ubicacion) + \",\" + str(Age) + \",\" + str(abv) + \",\" + str(costo) + \",\" + str(badge) + \",\" + str(cant_Review) + \",\" + str(Clasi_Clien) + \",\" + str(perfil_sabor) + \",\" + str(nombre_Experto) + \",\" + str(score) + \",\" + str(smoky) + \",\" + str(Peaty) + \",\" + str(spicy) + \",\" + str(Herbal) + \",\" + str(Oily) + \",\" + str(Full_bodied) + \",\" + str(Rich) + \",\" + str(Sweet) + \",\" + str(Briny) + \",\" + str(Salty) + \",\" + str(Vanilla) + \",\" + str(Tart) + \",\" + str(Fruity) + \",\" + str(Floral) + \",\" + str(review)  +\"\\n\" \n",
    "        datos_1.append([])\n",
    "        datos_1[f].append(str(nombre))\n",
    "        datos_1[f].append(str(tipo))\n",
    "        datos_1[f].append(str(cask))\n",
    "        datos_1[f].append(str(Nombre_Ubicacion))\n",
    "        datos_1[f].append(str(Age)) \n",
    "        datos_1[f].append(str(abv))\n",
    "        datos_1[f].append(str(costo))\n",
    "        datos_1[f].append(str(badge))\n",
    "        datos_1[f].append(str(cant_Review))\n",
    "        datos_1[f].append(str(Clasi_Clien))\n",
    "        datos_1[f].append(str(perfil_sabor))\n",
    "        datos_1[f].append(str(nombre_Experto))\n",
    "        datos_1[f].append(str(score))\n",
    "        datos_1[f].append(str(smoky))\n",
    "        datos_1[f].append(str(Peaty))\n",
    "        datos_1[f].append(str(spicy))\n",
    "        datos_1[f].append(str(Herbal))\n",
    "        datos_1[f].append(str(Oily))\n",
    "        datos_1[f].append(str(Full_bodied))\n",
    "        datos_1[f].append(str(Rich))\n",
    "        datos_1[f].append(str(Sweet))\n",
    "        datos_1[f].append(str(Briny))\n",
    "        datos_1[f].append(str(Salty))\n",
    "        datos_1[f].append(str(Vanilla))\n",
    "        datos_1[f].append(str(Tart))\n",
    "        datos_1[f].append(str(Fruity))\n",
    "        datos_1[f].append(str(Floral))\n",
    "        datos_1[f].append(str(review))\n",
    "        f +=1\n",
    "            \n",
    "        \n",
    "        \n"
   ]
  },
  {
   "cell_type": "markdown",
   "id": "68759e9a",
   "metadata": {},
   "source": [
    "## Preparación de datos.\n",
    "observando los datos, de puede deducir que existen muchas variables que pueden afectar el numero de rating de las botellas, en este caso, se inicio, limpiando los datos, eliminando datos en NaN y \"\", lo que hace esto es disminuir cociderablemente la tabla y al hacer una inspeccion visual de los datos no se logra divisar algun predicor bueno.\n",
    "\n",
    "Se limitaron los datos del '# Rating' a 1500 dado que comos de estos datos llegaban a este valor, haciendo que el modelo predictivo a ocupar tengra un menor rendimiento."
   ]
  },
  {
   "cell_type": "code",
   "execution_count": 100,
   "id": "6b364b79-d5ea-4a9a-882f-893b4f818857",
   "metadata": {},
   "outputs": [],
   "source": [
    "df = pd.DataFrame(datos_1[1:],columns=datos_1[0])\n",
    "\n",
    "df['Price'] = df[\"Price\"].replace('None', np.nan)\n",
    "\n",
    "#print(df['Age'].unique)\n",
    "df['Age'] = df['Age'].replace('None', np.nan)\n",
    "df['Age'] = df['Age'].replace('NAS', np.nan).replace('nas',np.nan)\n",
    "df['Age'] = df['Age'].replace(' ', np.nan)\n",
    "df['Age'] = df['Age'].replace('NaN', np.nan)\n",
    "\n",
    "df['Smoky'] =df['Smoky'].replace('', np.nan)\n",
    "df['Peaty'] =df['Peaty'].replace('', np.nan)\n",
    "df['Spicy'] =df['Spicy'].replace('', np.nan)\n",
    "df['Herbal'] =df['Herbal'].replace('', np.nan)\n",
    "df['Oily'] =df['Oily'].replace('', np.nan)\n",
    "df['Full-Bodied'] =df['Full-Bodied'].replace('', np.nan)\n",
    "df['Sweet'] =df['Sweet'].replace('', np.nan)\n",
    "df['Briny'] =df['Briny'].replace('', np.nan)\n",
    "df['Salty'] =df['Salty'].replace('', np.nan)\n",
    "df['Vanilla'] =df['Vanilla'].replace('', np.nan)\n",
    "df['Tart'] =df['Tart'].replace('', np.nan)\n",
    "df['Fruity'] =df['Fruity'].replace('', np.nan)\n",
    "df['Floral'] =df['Floral'].replace('', np.nan)\n",
    "df['Rich'] = df['Rich'].replace('', np.nan)\n",
    "df['# Rating'] = df['# Rating'].replace(' ', np.nan)\n",
    "\n",
    "\n",
    "df['# Rating'] = pd.to_numeric(df['# Rating'], errors='coerce', downcast='integer')\n",
    "df['Price'] = pd.to_numeric(df['Price'])\n",
    "\n",
    "\n",
    "df.dropna(subset=['Price', '# Rating', \"Customer' Rating\", 'ABV %'], inplace=True)\n",
    "df.dropna(subset=['Age', 'Rich','Smoky','Peaty','Spicy','Herbal','Oily','Full-Bodied','Sweet','Briny', 'Vanilla','Tart','Fruity','Floral'], inplace=True)\n",
    "df['# Rating']= df['# Rating'].astype('float')\n",
    "df['Price'] = df['Price'].astype('float')\n",
    "df['Age'] = df['Age'].astype('float')\n",
    "df['Rich'] = df['Rich'].astype('float')\n",
    "df[\"Customer' Rating\"] = df[\"Customer' Rating\"].astype('float')\n",
    "df['Smoky'] = df['Smoky'].astype('float')\n",
    "df['Peaty'] = df['Peaty'].astype('float')\n",
    "df['Spicy'] = df['Spicy'].astype('float')\n",
    "df['Herbal'] = df['Herbal'].astype('float')\n",
    "df['Oily'] = df['Oily'].astype('float')\n",
    "df['Full-Bodied'] = df['Full-Bodied'].astype('float')\n",
    "df['Briny'] = df['Briny'].astype('float')\n",
    "df['Vanilla'] = df['Vanilla'].astype('float')\n",
    "df['Tart'] = df['Tart'].astype('float')\n",
    "df['Fruity'] = df['Fruity'].astype('float')\n",
    "df['Floral'] = df['Floral'].astype('float')\n",
    "df['ABV %'] = df['ABV %'].astype('float')\n",
    "df['Sweet'] = df['Sweet'].astype('float')\n",
    "df['# Rating'] = df['# Rating'].apply(lambda x: min(x, 1500))\n",
    "df['Floral'] = df['Floral'].apply(lambda x: min(x, 1500))\n",
    "df['Smoky'] = df['Smoky'].apply(lambda x: min(x, 1500))\n",
    "\n",
    "\n",
    "\n"
   ]
  },
  {
   "cell_type": "markdown",
   "id": "ed9cc344",
   "metadata": {},
   "source": [
    "### Procesamiento de datos.\n",
    "\n",
    "Utilizando la técnica de correalción para obtener las mejores variables predictorias con una correlación absoluta mayor a 0.2, se obtiene las siguientes resultado."
   ]
  },
  {
   "cell_type": "code",
   "execution_count": 101,
   "id": "58a321d0",
   "metadata": {},
   "outputs": [
    {
     "data": {
      "image/png": "[encoded data removed]",
      "text/plain": [
       "<Figure size 1000x800 with 2 Axes>"
      ]
     },
     "metadata": {},
     "output_type": "display_data"
    },
    {
     "name": "stdout",
     "output_type": "stream",
     "text": [
      "Mejores características numéricas para predecir '# Rating': ['# Rating', 'Floral', 'Smoky', 'Oily', 'Spicy', 'Fruity', 'Price']\n"
     ]
    }
   ],
   "source": [
    "numeric_columns= df.select_dtypes(include=np.number)\n",
    "correlation_matrix = numeric_columns.corr()\n",
    "correlation_with_target = correlation_matrix['# Rating'].sort_values(ascending=False)\n",
    "top_features = correlation_with_target[abs(correlation_with_target) > 0.2].index.tolist()\n",
    "\n",
    "plt.figure(figsize=(10, 8))\n",
    "sns.heatmap(numeric_columns[top_features].corr(), annot=True, cmap='coolwarm', fmt=\".2f\")\n",
    "plt.title(\"Correlación entre las mejores características numéricas y '# Rating'\")\n",
    "plt.show()\n",
    "print(\"Mejores características numéricas para predecir '# Rating':\", top_features)"
   ]
  },
  {
   "cell_type": "markdown",
   "id": "8fc481b3",
   "metadata": {},
   "source": [
    "## Preparación de datos.\n",
    "Despues de la visualización se puede obtener datos que pueden ser buenas variables predictorias, revisando el grafico, se llega a la conclusión de que las mejores varibles predictoras son las siguientes: 'Floral','Floral' dado que estas tienen una mejor correlasión con # Rating.\n",
    "\n",
    "\n",
    "Con el .OLS y ocupando el apartado de P>|t|, se puede observar el que valor más pequeño es el del precio, por lo cual este sera el valor a concidera para el proceso de regresión lineal, en lo teorico no hace referencia a lo practico con los modelos de regresión lineal, Ridge y lisso.\n"
   ]
  },
  {
   "cell_type": "code",
   "execution_count": 102,
   "id": "08772268",
   "metadata": {},
   "outputs": [
    {
     "data": {
      "text/html": [
       "<table class=\"simpletable\">\n",
       "<caption>OLS Regression Results</caption>\n",
       "<tr>\n",
       "  <th>Dep. Variable:</th>        <td># Rating</td>     <th>  R-squared:         </th> <td>   0.397</td>\n",
       "</tr>\n",
       "<tr>\n",
       "  <th>Model:</th>                   <td>OLS</td>       <th>  Adj. R-squared:    </th> <td>   0.377</td>\n",
       "</tr>\n",
       "<tr>\n",
       "  <th>Method:</th>             <td>Least Squares</td>  <th>  F-statistic:       </th> <td>   19.73</td>\n",
       "</tr>\n",
       "<tr>\n",
       "  <th>Date:</th>             <td>Sun, 28 Apr 2024</td> <th>  Prob (F-statistic):</th> <td>2.60e-07</td>\n",
       "</tr>\n",
       "<tr>\n",
       "  <th>Time:</th>                 <td>20:56:13</td>     <th>  Log-Likelihood:    </th> <td> -473.03</td>\n",
       "</tr>\n",
       "<tr>\n",
       "  <th>No. Observations:</th>      <td>    63</td>      <th>  AIC:               </th> <td>   952.1</td>\n",
       "</tr>\n",
       "<tr>\n",
       "  <th>Df Residuals:</th>          <td>    60</td>      <th>  BIC:               </th> <td>   958.5</td>\n",
       "</tr>\n",
       "<tr>\n",
       "  <th>Df Model:</th>              <td>     2</td>      <th>                     </th>     <td> </td>   \n",
       "</tr>\n",
       "<tr>\n",
       "  <th>Covariance Type:</th>      <td>nonrobust</td>    <th>                     </th>     <td> </td>   \n",
       "</tr>\n",
       "</table>\n",
       "<table class=\"simpletable\">\n",
       "<tr>\n",
       "     <td></td>       <th>coef</th>     <th>std err</th>      <th>t</th>      <th>P>|t|</th>  <th>[0.025</th>    <th>0.975]</th>  \n",
       "</tr>\n",
       "<tr>\n",
       "  <th>const</th>  <td>   70.4206</td> <td>   99.792</td> <td>    0.706</td> <td> 0.483</td> <td> -129.194</td> <td>  270.035</td>\n",
       "</tr>\n",
       "<tr>\n",
       "  <th>Floral</th> <td>   15.9219</td> <td>    3.728</td> <td>    4.271</td> <td> 0.000</td> <td>    8.465</td> <td>   23.379</td>\n",
       "</tr>\n",
       "<tr>\n",
       "  <th>Smoky</th>  <td>    8.5542</td> <td>    4.189</td> <td>    2.042</td> <td> 0.046</td> <td>    0.174</td> <td>   16.934</td>\n",
       "</tr>\n",
       "</table>\n",
       "<table class=\"simpletable\">\n",
       "<tr>\n",
       "  <th>Omnibus:</th>       <td> 7.013</td> <th>  Durbin-Watson:     </th> <td>   1.103</td>\n",
       "</tr>\n",
       "<tr>\n",
       "  <th>Prob(Omnibus):</th> <td> 0.030</td> <th>  Jarque-Bera (JB):  </th> <td>   7.190</td>\n",
       "</tr>\n",
       "<tr>\n",
       "  <th>Skew:</th>          <td> 0.513</td> <th>  Prob(JB):          </th> <td>  0.0275</td>\n",
       "</tr>\n",
       "<tr>\n",
       "  <th>Kurtosis:</th>      <td> 4.298</td> <th>  Cond. No.          </th> <td>    55.6</td>\n",
       "</tr>\n",
       "</table><br/><br/>Notes:<br/>[1] Standard Errors assume that the covariance matrix of the errors is correctly specified."
      ],
      "text/latex": [
       "\\begin{center}\n",
       "\\begin{tabular}{lclc}\n",
       "\\toprule\n",
       "\\textbf{Dep. Variable:}    &    \\# Rating     & \\textbf{  R-squared:         } &     0.397   \\\\\n",
       "\\textbf{Model:}            &       OLS        & \\textbf{  Adj. R-squared:    } &     0.377   \\\\\n",
       "\\textbf{Method:}           &  Least Squares   & \\textbf{  F-statistic:       } &     19.73   \\\\\n",
       "\\textbf{Date:}             & Sun, 28 Apr 2024 & \\textbf{  Prob (F-statistic):} &  2.60e-07   \\\\\n",
       "\\textbf{Time:}             &     20:56:13     & \\textbf{  Log-Likelihood:    } &   -473.03   \\\\\n",
       "\\textbf{No. Observations:} &          63      & \\textbf{  AIC:               } &     952.1   \\\\\n",
       "\\textbf{Df Residuals:}     &          60      & \\textbf{  BIC:               } &     958.5   \\\\\n",
       "\\textbf{Df Model:}         &           2      & \\textbf{                     } &             \\\\\n",
       "\\textbf{Covariance Type:}  &    nonrobust     & \\textbf{                     } &             \\\\\n",
       "\\bottomrule\n",
       "\\end{tabular}\n",
       "\\begin{tabular}{lcccccc}\n",
       "                & \\textbf{coef} & \\textbf{std err} & \\textbf{t} & \\textbf{P$> |$t$|$} & \\textbf{[0.025} & \\textbf{0.975]}  \\\\\n",
       "\\midrule\n",
       "\\textbf{const}  &      70.4206  &       99.792     &     0.706  &         0.483        &     -129.194    &      270.035     \\\\\n",
       "\\textbf{Floral} &      15.9219  &        3.728     &     4.271  &         0.000        &        8.465    &       23.379     \\\\\n",
       "\\textbf{Smoky}  &       8.5542  &        4.189     &     2.042  &         0.046        &        0.174    &       16.934     \\\\\n",
       "\\bottomrule\n",
       "\\end{tabular}\n",
       "\\begin{tabular}{lclc}\n",
       "\\textbf{Omnibus:}       &  7.013 & \\textbf{  Durbin-Watson:     } &    1.103  \\\\\n",
       "\\textbf{Prob(Omnibus):} &  0.030 & \\textbf{  Jarque-Bera (JB):  } &    7.190  \\\\\n",
       "\\textbf{Skew:}          &  0.513 & \\textbf{  Prob(JB):          } &   0.0275  \\\\\n",
       "\\textbf{Kurtosis:}      &  4.298 & \\textbf{  Cond. No.          } &     55.6  \\\\\n",
       "\\bottomrule\n",
       "\\end{tabular}\n",
       "%\\caption{OLS Regression Results}\n",
       "\\end{center}\n",
       "\n",
       "Notes: \\newline\n",
       " [1] Standard Errors assume that the covariance matrix of the errors is correctly specified."
      ],
      "text/plain": [
       "<class 'statsmodels.iolib.summary.Summary'>\n",
       "\"\"\"\n",
       "                            OLS Regression Results                            \n",
       "==============================================================================\n",
       "Dep. Variable:               # Rating   R-squared:                       0.397\n",
       "Model:                            OLS   Adj. R-squared:                  0.377\n",
       "Method:                 Least Squares   F-statistic:                     19.73\n",
       "Date:                Sun, 28 Apr 2024   Prob (F-statistic):           2.60e-07\n",
       "Time:                        20:56:13   Log-Likelihood:                -473.03\n",
       "No. Observations:                  63   AIC:                             952.1\n",
       "Df Residuals:                      60   BIC:                             958.5\n",
       "Df Model:                           2                                         \n",
       "Covariance Type:            nonrobust                                         \n",
       "==============================================================================\n",
       "                 coef    std err          t      P>|t|      [0.025      0.975]\n",
       "------------------------------------------------------------------------------\n",
       "const         70.4206     99.792      0.706      0.483    -129.194     270.035\n",
       "Floral        15.9219      3.728      4.271      0.000       8.465      23.379\n",
       "Smoky          8.5542      4.189      2.042      0.046       0.174      16.934\n",
       "==============================================================================\n",
       "Omnibus:                        7.013   Durbin-Watson:                   1.103\n",
       "Prob(Omnibus):                  0.030   Jarque-Bera (JB):                7.190\n",
       "Skew:                           0.513   Prob(JB):                       0.0275\n",
       "Kurtosis:                       4.298   Cond. No.                         55.6\n",
       "==============================================================================\n",
       "\n",
       "Notes:\n",
       "[1] Standard Errors assume that the covariance matrix of the errors is correctly specified.\n",
       "\"\"\""
      ]
     },
     "execution_count": 102,
     "metadata": {},
     "output_type": "execute_result"
    }
   ],
   "source": [
    "\n",
    "x = sm.add_constant(df[['Floral','Smoky']])\n",
    "modelo_ols_1 = sm.OLS(df['# Rating'],x ).fit()\n",
    "modelo_ols_1.summary()\n"
   ]
  },
  {
   "cell_type": "markdown",
   "id": "48a74a2c",
   "metadata": {},
   "source": []
  },
  {
   "cell_type": "markdown",
   "id": "b65ea88a",
   "metadata": {},
   "source": [
    "## Entranmiento de los datos.\n",
    "En este apartado, se ocuparan los datos encontrados anteriormente para realizar un entrenamientos con estos en una proporción de 80% de prueba."
   ]
  },
  {
   "cell_type": "code",
   "execution_count": 103,
   "id": "29e3d149",
   "metadata": {},
   "outputs": [],
   "source": [
    "\n",
    "val_x = df[['Floral','Smoky']]\n",
    "val_y = df['# Rating']"
   ]
  },
  {
   "cell_type": "markdown",
   "id": "fc5326d4",
   "metadata": {},
   "source": [
    "Se entrenan las variables."
   ]
  },
  {
   "cell_type": "code",
   "execution_count": 104,
   "id": "74f558e4",
   "metadata": {},
   "outputs": [],
   "source": [
    "x_Train, x_Test, y_Train, y_Test = train_test_split(val_x,val_y,test_size=0.8)\n"
   ]
  },
  {
   "cell_type": "markdown",
   "id": "a5fc4f4f",
   "metadata": {},
   "source": [
    "## Regresión lineal\n",
    "En este aparto se evaluara el modelo de regresión lineal y se obtendran resultados inciales para evaluar el rendimiento de  este.\n"
   ]
  },
  {
   "cell_type": "code",
   "execution_count": 105,
   "id": "e1d0b92e",
   "metadata": {},
   "outputs": [],
   "source": [
    "modelo = LinearRegression()\n",
    "modelo.fit(x_Train, y_Train)\n",
    "\n",
    "y_predic_test = modelo.predict(x_Test)"
   ]
  },
  {
   "cell_type": "markdown",
   "id": "d62f18d0",
   "metadata": {},
   "source": [
    "Al revisar los resultadosd el error cuadratico medio es relativamente bueno dado que tiene una mejora notable a diferenia de mse base, pero el error cuadrativo no es bueno, dado tambien el \n"
   ]
  },
  {
   "cell_type": "code",
   "execution_count": 106,
   "id": "5bd155aa",
   "metadata": {},
   "outputs": [
    {
     "name": "stdout",
     "output_type": "stream",
     "text": [
      "MSE del modelo base (media): 407838.3174019608\n"
     ]
    }
   ],
   "source": [
    "mean_target = np.mean(y_Train)\n",
    "\n",
    "# Crear un array con la misma longitud que el conjunto de prueba, lleno con la media\n",
    "predictions_base = np.full_like(y_Test, fill_value=mean_target)\n",
    "\n",
    "# Calcular el MSE del modelo base\n",
    "mse_base = np.mean((predictions_base - y_Test) ** 2)\n",
    "\n",
    "print(\"MSE del modelo base (media):\", mse_base)"
   ]
  },
  {
   "cell_type": "code",
   "execution_count": 107,
   "id": "635b3995",
   "metadata": {},
   "outputs": [
    {
     "name": "stdout",
     "output_type": "stream",
     "text": [
      "El valor del mse es:256707.4056579689 y el valor del r^2 es de: 0.2709883843166069\n"
     ]
    }
   ],
   "source": [
    "mse = mean_squared_error(y_Test, y_predic_test)\n",
    "\n",
    "r2 = r2_score(y_Test, y_predic_test)\n",
    "\n",
    "print(f'El valor del mse es:{mse} y el valor del r^2 es de: {r2}')"
   ]
  },
  {
   "cell_type": "code",
   "execution_count": 108,
   "id": "5a4aa626",
   "metadata": {},
   "outputs": [
    {
     "data": {
      "image/png": "[encoded data removed]",
      "text/plain": [
       "<Figure size 1000x600 with 1 Axes>"
      ]
     },
     "metadata": {},
     "output_type": "display_data"
    }
   ],
   "source": [
    "# Graficar el modelo de regresión lineal\n",
    "plt.figure(figsize=(10, 6))\n",
    "plt.scatter(y_Test, y_predic_test, color='blue')\n",
    "plt.xlabel('Valores reales')\n",
    "plt.ylabel('Valores predichos')\n",
    "plt.title('Modelo de regresión lineal: Valores reales vs Valores predichos')\n",
    "plt.plot([min(y_Test), max(y_Test)], [min(y_Test), max(y_Test)], color='black', linestyle='--') # Línea de referencia\n",
    "plt.show()\n",
    "\n",
    "\n"
   ]
  },
  {
   "cell_type": "markdown",
   "id": "1a3abfb5",
   "metadata": {},
   "source": [
    "El resultado de la regresión lineal no es realmente bueno siendo esto por que no se adapta a sus variables siendo poco flexible para estas.\n",
    "El mse de la regresión lineal es un poco más bajo que el del las estadisticas medias siendo un poco mejor, pero el r2 nos indica que este modelo no se adapta a los datos pedidos."
   ]
  },
  {
   "cell_type": "markdown",
   "id": "7e98603e",
   "metadata": {},
   "source": [
    "## Regresión LASSO Y Ridge\n",
    "En este apartado normalizaremos y entrenaremos las variables con los modelos predictivos Lasso y Ridge.\n"
   ]
  },
  {
   "cell_type": "code",
   "execution_count": 109,
   "id": "2a9a3b40",
   "metadata": {},
   "outputs": [],
   "source": [
    "normalizer = StandardScaler().fit(val_x, val_y)\n",
    "\n",
    "x_train_morm = normalizer.fit_transform(x_Train)\n",
    "x_test_norm = normalizer.transform(x_Test)"
   ]
  },
  {
   "cell_type": "code",
   "execution_count": 110,
   "id": "f90fcad6",
   "metadata": {},
   "outputs": [
    {
     "name": "stdout",
     "output_type": "stream",
     "text": [
      "MSE: 256707.4056579689 | R2: 0.27396610843232205\n"
     ]
    }
   ],
   "source": [
    "Modelo_Lasso = Lasso().fit(x_train_morm, y_Train)\n",
    "y_pred_lasso = Modelo_Lasso.predict(x_test_norm)\n",
    "mse_lasso = mean_squared_error(y_Test, y_predic_test)\n",
    "r2_lasso = r2_score(y_Test, y_pred_lasso)\n",
    "print(f\"MSE: {mse_lasso} | R2: {r2_lasso}\")"
   ]
  },
  {
   "cell_type": "code",
   "execution_count": 111,
   "id": "dfcfd606",
   "metadata": {},
   "outputs": [
    {
     "data": {
      "image/png": "[encoded data removed]",
      "text/plain": [
       "<Figure size 1000x600 with 1 Axes>"
      ]
     },
     "metadata": {},
     "output_type": "display_data"
    }
   ],
   "source": [
    "\n",
    "plt.figure(figsize=(10, 6))\n",
    "plt.scatter(y_Test, y_pred_lasso, color='blue', label='Predicciones Lasso')\n",
    "plt.plot([min(y_Test), max(y_Test)], [min(y_Test), max(y_Test)], color='black', linestyle='--') # Línea de referencia\n",
    "plt.xlabel('Valores reales')\n",
    "plt.ylabel('Valores predichos')\n",
    "plt.title('Modelo de regresión Lasso: Valores reales vs Valores predichos')\n",
    "plt.legend()\n",
    "plt.show()\n"
   ]
  },
  {
   "cell_type": "code",
   "execution_count": 112,
   "id": "f4664d08",
   "metadata": {},
   "outputs": [
    {
     "name": "stdout",
     "output_type": "stream",
     "text": [
      "MSE: 249808.52953113936 | R2: 0.2905801869711848\n"
     ]
    }
   ],
   "source": [
    "# Con la regresión Ridge, vemos esta vez un pequeño decremento del rendimiento, pero sigue sin ser mejor.\n",
    "modelo_Ridge = Ridge().fit(x_train_morm, y_Train)\n",
    "y_pred_ridge = modelo_Ridge.predict(x_test_norm)\n",
    "mse_ridge = mean_squared_error(y_Test, y_pred_ridge)\n",
    "r2_ridge = r2_score(y_Test, y_pred_ridge)\n",
    "print(f\"MSE: {mse_ridge} | R2: {r2_ridge}\")"
   ]
  },
  {
   "cell_type": "code",
   "execution_count": 113,
   "id": "4ffaefab",
   "metadata": {},
   "outputs": [
    {
     "data": {
      "image/png": "[encoded data removed]",
      "text/plain": [
       "<Figure size 1000x600 with 1 Axes>"
      ]
     },
     "metadata": {},
     "output_type": "display_data"
    }
   ],
   "source": [
    "import matplotlib.pyplot as plt\n",
    "\n",
    "# Graficar los resultados del modelo de regresión Lasso\n",
    "plt.figure(figsize=(10, 6))\n",
    "plt.scatter(y_Test, y_pred_ridge, color='blue', label='Predicciones Lasso')\n",
    "plt.plot([min(y_Test), max(y_Test)], [min(y_Test), max(y_Test)], color='black', linestyle='--') # Línea de referencia\n",
    "plt.xlabel('Valores reales')\n",
    "plt.ylabel('Valores predichos')\n",
    "plt.title('Modelo de regresión Lasso: Valores reales vs Valores predichos')\n",
    "plt.legend()\n",
    "plt.show()"
   ]
  },
  {
   "cell_type": "markdown",
   "id": "9d25fd7f",
   "metadata": {},
   "source": [
    "## Resultad Ridge y LASSO\n",
    "El modelo lasso mejora los parametros indicadores del modelo, es decir, mejora el mse y r2. Esta mejora no es tan grande siendo esto por los datos anomalos y los d"
   ]
  },
  {
   "cell_type": "code",
   "execution_count": 114,
   "id": "20da24f1",
   "metadata": {},
   "outputs": [],
   "source": [
    "param_grid_lasso = {'alpha': [0.001, 0.01, 0.1, 1, 10]}\n",
    "param_grid_ridge = {'alpha': [0.001, 0.01, 0.1, 1, 10]}\n",
    "modelo_lasso_cros = Lasso()\n",
    "modelo_Ridge_cros = Ridge()\n",
    "grid_search_lasso = GridSearchCV(modelo_lasso_cros, param_grid_lasso,cv=5 ,scoring='r2')\n",
    "grid_search_ridge = GridSearchCV(modelo_Ridge_cros, param_grid_ridge,cv=5 ,scoring='r2')\n"
   ]
  },
  {
   "cell_type": "code",
   "execution_count": 115,
   "id": "9d6a0e4f",
   "metadata": {},
   "outputs": [
    {
     "name": "stdout",
     "output_type": "stream",
     "text": [
      "MSE: 247044.05228211128 Y R2: 0.2984308994220719\n"
     ]
    }
   ],
   "source": [
    "\n",
    "grid_search_lasso.fit(x_train_morm, y_Train)\n",
    "best_params_lasso = grid_search_lasso.best_params_\n",
    "\n",
    "\n",
    "\n",
    "y_pred_lasso_cros = grid_search_lasso.predict(x_test_norm)\n",
    "\n",
    "mse_lasso_cros = mean_squared_error(y_Test,y_pred_lasso_cros)\n",
    "\n",
    "r2_lasso_cros = r2_score(y_Test,y_pred_lasso_cros)\n",
    "\n",
    "print(f\"MSE: {mse_lasso_cros} Y R2: {r2_lasso_cros}\")"
   ]
  },
  {
   "cell_type": "code",
   "execution_count": 116,
   "id": "e5167cd8",
   "metadata": {},
   "outputs": [
    {
     "name": "stdout",
     "output_type": "stream",
     "text": [
      "MSE: 262352.5211034869 Y R2: 0.25495707925507893\n"
     ]
    }
   ],
   "source": [
    "grid_search_ridge.fit(x_train_morm, y_Train)\n",
    "best_params_ridge = grid_search_ridge.best_params_\n",
    "\n",
    "y_pred_ridge_cross = grid_search_ridge.predict(x_test_norm)\n",
    "mse_ridge_cros = mean_squared_error(y_Test,y_pred_ridge_cross)\n",
    "r2_ridge_cros = r2_score(y_Test,y_pred_ridge_cross)\n",
    "print(f\"MSE: {mse_ridge_cros} Y R2: {r2_ridge_cros}\")"
   ]
  },
  {
   "cell_type": "code",
   "execution_count": 117,
   "id": "39c240bd",
   "metadata": {},
   "outputs": [
    {
     "name": "stdout",
     "output_type": "stream",
     "text": [
      "El la diferencia del mse del modelo de regresión lineal a comparación del lasso con los hipperparametros de 5-fold cross validation es de 9663.353375857609\n",
      "  \n",
      "El la diferencia del mse del modelo de regresión lineal a comparación del lasso con los hipperparametros de 5-fold cross validation es de -5645.115445517993\n",
      "   \n",
      "El la diferencia del r2 del modelo de regresión lineal a comparación del lasso con los hipperparametros de 5-fold cross validation es de -0.027442515105465026\n",
      "   \n",
      "El la diferencia del r2 del modelo de regresión lineal a comparación del lasso con los hipperparametros de 5-fold cross validation es de 0.016031305061527945\n",
      "  \n"
     ]
    }
   ],
   "source": [
    "print(f\"El la diferencia del mse del modelo de regresión lineal a comparación del lasso con los hipperparametros de 5-fold cross validation es de {float(mse - mse_lasso_cros)}\\n  \")\n",
    "print(f\"El la diferencia del mse del modelo de regresión lineal a comparación del lasso con los hipperparametros de 5-fold cross validation es de {float(mse - mse_ridge_cros)}\\n   \")\n",
    "print(f\"El la diferencia del r2 del modelo de regresión lineal a comparación del lasso con los hipperparametros de 5-fold cross validation es de {float(r2 - r2_lasso_cros)}\\n   \")\n",
    "print(f\"El la diferencia del r2 del modelo de regresión lineal a comparación del lasso con los hipperparametros de 5-fold cross validation es de {float(r2 - r2_ridge_cros)}\\n  \")\n"
   ]
  },
  {
   "cell_type": "markdown",
   "id": "d2beb994",
   "metadata": {},
   "source": [
    "Las comparaciones del los modelos de Lasso y Ridge con los hiperparametros encontrados con 5-fold cross validation es no es tan notable.\n"
   ]
  },
  {
   "cell_type": "markdown",
   "id": "1ad6694a",
   "metadata": {},
   "source": [
    "Para Lasso:\n"
   ]
  },
  {
   "cell_type": "markdown",
   "metadata": {},
   "source": [
    "    El modelo tiene una mejora en la predicción pero se adapta menos al modelo.\n"
   ]
  },
  {
   "cell_type": "markdown",
   "metadata": {},
   "source": [
    "Para Ridge:\n"
   ]
  },
  {
   "cell_type": "markdown",
   "id": "4a589b52",
   "metadata": {},
   "source": [
    "    El modelo tiene una mejora en la adpatación pero emperoa con las predicciones.\n"
   ]
  },
  {
   "cell_type": "markdown",
   "id": "453f11b4",
   "metadata": {},
   "source": [
    "\n",
    "Esto idica que el mejor modelo para este caso seria el Lasso, dado que la diferencia es diminuta en la adaptación del modelo, mientras la diferencia de predicciones es muy grande.\n",
    " "
   ]
  },
  {
   "cell_type": "markdown",
   "id": "ab200144",
   "metadata": {},
   "source": [
    "## Optimización de hiperparametros.\n",
    "\n",
    "En este aparto buscaremos la optimización de los hiperparametros encontrado en el ultimo apartado para los modelos de Lasso y Ridge\n",
    "\n",
    "primero se iniciara con Grid Search."
   ]
  },
  {
   "cell_type": "code",
   "execution_count": 118,
   "id": "cd9100d5",
   "metadata": {},
   "outputs": [
    {
     "name": "stdout",
     "output_type": "stream",
     "text": [
      "Mejores hiperparámetros para Ridge: {'alpha': 10}\n",
      "MSE para Ridge: 262352.5211034869\n",
      "R^2 para Ridge: 0.25495707925507893\n"
     ]
    }
   ],
   "source": [
    "param_grid = {'alpha': [0.001, 0.01, 0.1, 1, 10]}\n",
    "modelo_ridge_op = Ridge()\n",
    "grid_search_ridge = GridSearchCV(modelo_ridge_op, param_grid, cv=5, scoring='r2')\n",
    "\n",
    "grid_search_ridge.fit(x_train_morm, y_Train)\n",
    "best_params_ridge = grid_search_ridge.best_params_\n",
    "y_pred_ridge = grid_search_ridge.best_estimator_.predict(x_test_norm)\n",
    "mse_ridge = mean_squared_error(y_Test, y_pred_ridge)\n",
    "r2_ridge = r2_score(y_Test, y_pred_ridge)\n",
    "print(\"Mejores hiperparámetros para Ridge:\", best_params_ridge)\n",
    "print(\"MSE para Ridge:\", mse_ridge)\n",
    "print(\"R^2 para Ridge:\", r2_ridge)"
   ]
  },
  {
   "cell_type": "code",
   "execution_count": 119,
   "id": "f539d4be",
   "metadata": {},
   "outputs": [
    {
     "name": "stdout",
     "output_type": "stream",
     "text": [
      "MSE para Lasso: 247044.05228211128\n",
      "R^2 para Lasso: 0.2984308994220719\n"
     ]
    }
   ],
   "source": [
    "modelo_lasso_op = Lasso()\n",
    "\n",
    "grid_search_lasso = GridSearchCV(modelo_lasso_op, param_grid, cv=5, scoring='r2')\n",
    "\n",
    "grid_search_lasso.fit(x_train_morm, y_Train)\n",
    "y_pred_lasso = grid_search_lasso.best_estimator_.predict(x_test_norm)\n",
    "mse_lasso = mean_squared_error(y_Test, y_pred_lasso)\n",
    "r2_lasso = r2_score(y_Test, y_pred_lasso)\n",
    "print(\"MSE para Lasso:\", mse_lasso)\n",
    "print(\"R^2 para Lasso:\", r2_lasso)"
   ]
  },
  {
   "cell_type": "code",
   "execution_count": 120,
   "id": "d1d4547a",
   "metadata": {},
   "outputs": [
    {
     "name": "stdout",
     "output_type": "stream",
     "text": [
      "Mejores hiperparámetros para Ridge: {'alpha': 9.753872103430144}\n",
      "MSE para Ridge: 262352.5211034869\n",
      "R^2 para Ridge: 0.25495707925507893\n"
     ]
    }
   ],
   "source": [
    "param_dist = {'alpha': uniform(0.001, 10)}\n",
    "modelo_ridge_ram = Ridge()\n",
    "\n",
    "\n",
    "random_search_ridge = RandomizedSearchCV(modelo_ridge_ram, param_distributions=param_dist, n_iter=5, cv=5, scoring='r2')\n",
    "\n",
    "random_search_ridge.fit(x_train_morm, y_Train)\n",
    "best_params_ridge = random_search_ridge.best_params_\n",
    "y_pred_ridgeran = random_search_ridge.best_estimator_.predict(x_test_norm)\n",
    "mse_ridge_ram = mean_squared_error(y_Test, y_pred_ridgeran)\n",
    "r2_ridge_ram = r2_score(y_Test, y_pred_ridge)\n",
    "print(\"Mejores hiperparámetros para Ridge:\", best_params_ridge)\n",
    "print(\"MSE para Ridge:\", mse_ridge)\n",
    "print(\"R^2 para Ridge:\", r2_ridge)\n"
   ]
  },
  {
   "cell_type": "code",
   "execution_count": 121,
   "id": "9b059a95",
   "metadata": {},
   "outputs": [
    {
     "name": "stdout",
     "output_type": "stream",
     "text": [
      "mse: 248620.48260663668\n",
      "R2: 0.2939540670730053\n"
     ]
    }
   ],
   "source": [
    "param_dist = {'alpha': uniform(0.001, 10)}\n",
    "modelo_lasso_ram = Lasso()\n",
    "\n",
    "random_search_lasso = RandomizedSearchCV(modelo_lasso_ram,param_distributions=param_dist,n_iter=5,scoring='r2')\n",
    "\n",
    "random_search_lasso.fit(x_train_morm,y_Train)\n",
    "y_pred_lasso_ram = random_search_lasso.best_estimator_.predict(x_test_norm)\n",
    "\n",
    "mse_lasso_ram = mean_squared_error(y_Test,y_pred_lasso_ram)\n",
    "r2_ram_lasso = r2_score(y_Test,y_pred_lasso_ram)\n",
    "\n",
    "print(f\"mse: {mse_lasso_ram}\")\n",
    "print(f\"R2: {r2_ram_lasso}\")\n"
   ]
  },
  {
   "cell_type": "code",
   "execution_count": 123,
   "id": "6a858efe",
   "metadata": {},
   "outputs": [
    {
     "name": "stdout",
     "output_type": "stream",
     "text": [
      "MSE de lasso con los hiperparametros mejorados son: -1576.4303245253977\n",
      "\n",
      "MSE de ridge con los hiperparametros mejorados son: 781.1834307776298\n",
      "\n",
      "Con los hiperparametros mejorados son: 0.004476832349066595\n",
      "\n",
      "Con los hiperparametros mejorados son: 0.0\n",
      "\n"
     ]
    }
   ],
   "source": [
    "print(f\"MSE de lasso con los hiperparametros mejorados son: {mse_lasso -mse_lasso_ram}\\n\")\n",
    "print(f\"MSE de ridge con los hiperparametros mejorados son: {mse_ridge -mse_ridge_ram}\\n\")\n",
    "\n",
    "print(f\"r2 de lasso con los hiperparametros mejorados son: {r2_lasso -r2_ram_lasso}\\n\")\n",
    "print(f\"r2 de ridge con los hiperparametros mejorados son: {r2_ridge -r2_ridge_ram}\\n\")\n",
    "\n",
    "\n"
   ]
  },
  {
   "cell_type": "markdown",
   "id": "94d54912",
   "metadata": {},
   "source": [
    "## Conclusiones.\n",
    "\n",
    "El principal desafío de este taller fue el web scraping, debido a la gran cantidad de datos que necesitábamos obtener. Además, el proceso para obtener una buena predicción del número de rating fue relativamente complicado. Todos los modelos que evaluamos mostraron un rendimiento deficiente en este aspecto. Sin embargo, encontramos que el modelo de Ridge con los hiperparámetros obtenidos mediante Random Search fue el mejor en términos de error cuadrático medio (MSE), aunque mantuvo un coeficiente de determinación (R2) similar al Ridge sin los hiperparámetros optimizados. En resumen, con los modelos y datos disponibles, no fue posible predecir de manera precisa el número de rating de las bebidas alcohólicas. "
   ]
  }
 ],
 "metadata": {
  "kernelspec": {
   "display_name": "Python 3 (ipykernel)",
   "language": "python",
   "name": "python3"
  },
  "language_info": {
   "codemirror_mode": {
    "name": "ipython",
    "version": 3
   },
   "file_extension": ".py",
   "mimetype": "text/x-python",
   "name": "python",
   "nbconvert_exporter": "python",
   "pygments_lexer": "ipython3",
   "version": "3.11.7"
  }
 },
 "nbformat": 4,
 "nbformat_minor": 5
}
